{
 "cells": [
  {
   "cell_type": "code",
   "execution_count": 1,
   "id": "6b43c496-bc78-4808-99c9-d769b9f63e99",
   "metadata": {},
   "outputs": [],
   "source": [
    "# Import required libraries\n",
    "import yfinance as yf\n",
    "\n",
    "import pandas as pd\n",
    "import numpy as np\n",
    "from sklearn.decomposition import PCA\n",
    "import matplotlib.pyplot as plt"
   ]
  },
  {
   "cell_type": "code",
   "execution_count": 2,
   "id": "06534887-6281-4640-8a20-1197374f148f",
   "metadata": {},
   "outputs": [
    {
     "name": "stdout",
     "output_type": "stream",
     "text": [
      "[*********************100%***********************]  5 of 5 completed\n"
     ]
    }
   ],
   "source": [
    "# build a portfolio. You can pick any stocks you want.\n",
    "\n",
    "# Create a list of symbols for portfolio\n",
    "# For this example however I will just use the FAANG stocks.\n",
    "\n",
    "symbols = ['META', 'AMZN', 'AAPL', 'NFLX', 'GOOG']\n",
    "\n",
    "\n",
    "\n",
    "# Get data using the yahoo Finance API\n",
    "data = yf.download(symbols, start=\"2020-01-01\", end=\"2022-11-30\")\n",
    "\n",
    "# using the Adjusted close price, use the built in .pct_change function to assess the portfolios returns\n",
    "portfolio_returns = data['Adj Close'].pct_change().dropna()"
   ]
  },
  {
   "cell_type": "markdown",
   "id": "128685d8-e4e3-431e-b9f3-0ff0af41c045",
   "metadata": {},
   "source": [
    "### PCA model"
   ]
  },
  {
   "cell_type": "code",
   "execution_count": 3,
   "id": "46b69319-c3ff-405d-ae3f-eff536775c4c",
   "metadata": {},
   "outputs": [
    {
     "data": {
      "text/plain": [
       "PCA(n_components=3)"
      ]
     },
     "execution_count": 3,
     "metadata": {},
     "output_type": "execute_result"
    }
   ],
   "source": [
    "# fit a PCA model and get the components.\n",
    "\n",
    "# Build a PCA Model\n",
    "# The n_components argument tells sklearn how many of the top components to return\n",
    "pca = PCA(n_components=3)\n",
    "\n",
    "# Fit the model with the portfolio returns\n",
    "pca.fit(portfolio_returns)"
   ]
  },
  {
   "cell_type": "code",
   "execution_count": 4,
   "id": "cd24b5ae-d6ec-491a-872f-2834ac66ad93",
   "metadata": {},
   "outputs": [],
   "source": [
    "# grab the explained variance and components\n",
    "pct = pca.explained_variance_ratio_\n",
    "pca_components = pca.components_"
   ]
  },
  {
   "cell_type": "code",
   "execution_count": 5,
   "id": "9f7b7403-23c4-476c-b4fa-7347dfa0604d",
   "metadata": {},
   "outputs": [
    {
     "data": {
      "image/png": "[encoded data removed]",
      "text/plain": [
       "<Figure size 432x288 with 2 Axes>"
      ]
     },
     "metadata": {
      "needs_background": "light"
     },
     "output_type": "display_data"
    }
   ],
   "source": [
    "# Visualize the components\n",
    "# If the description of PCA is unclear, these charts should help.\n",
    "\n",
    "cum_pct = np.cumsum(pct)\n",
    "x = np.arange(1,len(pct)+1,1)\n",
    "\n",
    "plt.subplot(1, 2, 1)\n",
    "plt.bar(x, pct * 100, align=\"center\")\n",
    "plt.title('Contribution (%)')\n",
    "plt.xlabel('Component')\n",
    "plt.xticks(x)\n",
    "plt.xlim([0, 4])\n",
    "plt.ylim([0, 100])\n",
    "\n",
    "plt.subplot(1, 2, 2)\n",
    "plt.plot(x, cum_pct * 100, 'ro-')\n",
    "plt.title('Cumulative contribution (%)')\n",
    "plt.xlabel('Component')\n",
    "plt.xticks(x)\n",
    "plt.xlim([0, 4])\n",
    "plt.ylim([0, 100])\n",
    "\n",
    "\n",
    "# Save the figure.\n",
    "plt.savefig(\"./Images/FAANGStocksContribution_CumulativeContribution.jpg\")"
   ]
  },
  {
   "cell_type": "markdown",
   "id": "1495fb85-924e-4b0f-86e1-4efb5cfdb32b",
   "metadata": {},
   "source": [
    "**The chart on the left** shows the contribution of the top three components toward the total variance. In other words, these components contribute the most to the information in the data. The first component explains 54.9% of the variation in the portfolio returns. In stock portfolios, this is usually driven by the overall market movement.\n",
    "\n",
    "**The chart on the right** is the cumulative sum of the contribution of each component. It shows the top three components explain 84.7% of total portfolio returns. There’s no magic cumulative contribution but two or three components explaining close to 85% of the contribution is a good result."
   ]
  },
  {
   "cell_type": "code",
   "execution_count": 6,
   "id": "f7d3ae03-a939-4224-9c8a-5271dee5dbf5",
   "metadata": {},
   "outputs": [
    {
     "data": {
      "text/html": [
       "<div>\n",
       "<style scoped>\n",
       "    .dataframe tbody tr th:only-of-type {\n",
       "        vertical-align: middle;\n",
       "    }\n",
       "\n",
       "    .dataframe tbody tr th {\n",
       "        vertical-align: top;\n",
       "    }\n",
       "\n",
       "    .dataframe thead th {\n",
       "        text-align: right;\n",
       "    }\n",
       "</style>\n",
       "<table border=\"1\" class=\"dataframe\">\n",
       "  <thead>\n",
       "    <tr style=\"text-align: right;\">\n",
       "      <th></th>\n",
       "      <th>f1</th>\n",
       "      <th>f2</th>\n",
       "      <th>f3</th>\n",
       "    </tr>\n",
       "    <tr>\n",
       "      <th>Date</th>\n",
       "      <th></th>\n",
       "      <th></th>\n",
       "      <th></th>\n",
       "    </tr>\n",
       "  </thead>\n",
       "  <tbody>\n",
       "    <tr>\n",
       "      <th>2020-01-03</th>\n",
       "      <td>0.019482</td>\n",
       "      <td>0.002685</td>\n",
       "      <td>-0.006330</td>\n",
       "    </tr>\n",
       "    <tr>\n",
       "      <th>2020-01-06</th>\n",
       "      <td>-0.044082</td>\n",
       "      <td>-0.007813</td>\n",
       "      <td>-0.000849</td>\n",
       "    </tr>\n",
       "    <tr>\n",
       "      <th>2020-01-07</th>\n",
       "      <td>0.007975</td>\n",
       "      <td>0.011897</td>\n",
       "      <td>-0.001586</td>\n",
       "    </tr>\n",
       "    <tr>\n",
       "      <th>2020-01-08</th>\n",
       "      <td>-0.024595</td>\n",
       "      <td>-0.011074</td>\n",
       "      <td>-0.004951</td>\n",
       "    </tr>\n",
       "    <tr>\n",
       "      <th>2020-01-09</th>\n",
       "      <td>-0.015815</td>\n",
       "      <td>0.023949</td>\n",
       "      <td>0.003546</td>\n",
       "    </tr>\n",
       "  </tbody>\n",
       "</table>\n",
       "</div>"
      ],
      "text/plain": [
       "                  f1        f2        f3\n",
       "Date                                    \n",
       "2020-01-03  0.019482  0.002685 -0.006330\n",
       "2020-01-06 -0.044082 -0.007813 -0.000849\n",
       "2020-01-07  0.007975  0.011897 -0.001586\n",
       "2020-01-08 -0.024595 -0.011074 -0.004951\n",
       "2020-01-09 -0.015815  0.023949  0.003546"
      ]
     },
     "execution_count": 6,
     "metadata": {},
     "output_type": "execute_result"
    }
   ],
   "source": [
    "# Isolate the alpha factors\n",
    "\n",
    "X = np.asarray(portfolio_returns)\n",
    "\n",
    "# muliply the portfolio returns by the principle components. \n",
    "# The dot function makes sure every return is multiplied by each of the components\n",
    "# the T function transposes the DataFrame. \n",
    "\n",
    "factor_returns = X.dot(pca_components.T)\n",
    "\n",
    "# how much of that day’s portfolio return is a result of each of the three factors.\n",
    "factor_returns = pd.DataFrame(\n",
    "    columns=[\"f1\", \"f2\", \"f3\"], \n",
    "    index=portfolio_returns.index,\n",
    "    data=factor_returns\n",
    ")\n",
    "\n",
    "factor_returns.head()"
   ]
  },
  {
   "cell_type": "code",
   "execution_count": 7,
   "id": "34a4d4cb-a308-46a6-ac75-f0e969964986",
   "metadata": {},
   "outputs": [
    {
     "data": {
      "image/png": "[encoded data removed]",
      "text/plain": [
       "<Figure size 432x288 with 1 Axes>"
      ]
     },
     "metadata": {
      "needs_background": "light"
     },
     "output_type": "display_data"
    }
   ],
   "source": [
    "# Similar stocks will be driven by similar factors. \n",
    "# PCA makes it easy to visualize this.\n",
    "\n",
    "factor_exposures = pd.DataFrame(\n",
    "    index=[\"f1\", \"f2\", \"f3\"], \n",
    "    columns=portfolio_returns.columns,\n",
    "    data = pca_components\n",
    ").T\n",
    "\n",
    "factor_exposures.f1.sort_values().plot.bar();\n",
    "\n",
    "# Save the figure.\n",
    "plt.savefig(\"./Images/FAANGStocksFactorExposures.jpg\")"
   ]
  },
  {
   "cell_type": "code",
   "execution_count": 8,
   "id": "ec8f24ce-21d2-457f-8a35-aa11dfd6cbeb",
   "metadata": {},
   "outputs": [
    {
     "data": {
      "image/png": "[encoded data removed]",
      "text/plain": [
       "<Figure size 432x288 with 1 Axes>"
      ]
     },
     "metadata": {
      "needs_background": "light"
     },
     "output_type": "display_data"
    }
   ],
   "source": [
    "# Another great way to visualize this is with a scatter plot.\n",
    "\n",
    "labels = factor_exposures.index\n",
    "data = factor_exposures.values\n",
    "plt.scatter(data[:, 0], data[:, 1])\n",
    "plt.xlabel('factor exposure of PC1')\n",
    "plt.ylabel('factor exposure of PC2')\n",
    "\n",
    "for label, x, y in zip(labels, data[:, 0], data[:, 1]):\n",
    "    plt.annotate(\n",
    "        label,\n",
    "        xy=(x, y), \n",
    "        xytext=(-20, 20),\n",
    "        textcoords='offset points',\n",
    "        arrowprops=dict(arrowstyle='->', connectionstyle='arc3,rad=0'))\n",
    "    \n",
    "# Save the figure.\n",
    "plt.savefig(\"./Images/FAANGStocksScatterPlot.jpg\")"
   ]
  },
  {
   "cell_type": "code",
   "execution_count": null,
   "id": "d6ed28c8-f940-46d9-9cdd-d3e7e27189db",
   "metadata": {},
   "outputs": [],
   "source": []
  }
 ],
 "metadata": {
  "kernelspec": {
   "display_name": "Python [conda env:RGNY] *",
   "language": "python",
   "name": "conda-env-RGNY-py"
  },
  "language_info": {
   "codemirror_mode": {
    "name": "ipython",
    "version": 3
   },
   "file_extension": ".py",
   "mimetype": "text/x-python",
   "name": "python",
   "nbconvert_exporter": "python",
   "pygments_lexer": "ipython3",
   "version": "3.7.11"
  }
 },
 "nbformat": 4,
 "nbformat_minor": 5
}
